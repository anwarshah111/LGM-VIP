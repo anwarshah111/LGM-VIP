{
 "cells": [
  {
   "cell_type": "markdown",
   "metadata": {
    "collapsed": true
   },
   "source": [
    "# Task 2: Stock Market Prediction and Forecasting Using Stacked LSTM"
   ]
  },
  {
   "cell_type": "markdown",
   "metadata": {},
   "source": [
    "## April 2022"
   ]
  },
  {
   "cell_type": "markdown",
   "metadata": {},
   "source": [
    "## Perform By: `Anwar Shah`"
   ]
  },
  {
   "cell_type": "code",
   "execution_count": 58,
   "metadata": {},
   "outputs": [],
   "source": [
    "import pandas as pd\n",
    "import matplotlib.pyplot as plt\n",
    "import numpy as np\n",
    "from sklearn.preprocessing import MinMaxScaler"
   ]
  },
  {
   "cell_type": "markdown",
   "metadata": {},
   "source": [
    "# Loading Data Set"
   ]
  },
  {
   "cell_type": "code",
   "execution_count": 59,
   "metadata": {},
   "outputs": [],
   "source": [
    "df = pd.read_csv(\"https://raw.githubusercontent.com/mwitiderrick/stockprice/master/NSE-TATAGLOBAL.csv\")"
   ]
  },
  {
   "cell_type": "code",
   "execution_count": 60,
   "metadata": {},
   "outputs": [
    {
     "data": {
      "text/html": [
       "<div>\n",
       "<style scoped>\n",
       "    .dataframe tbody tr th:only-of-type {\n",
       "        vertical-align: middle;\n",
       "    }\n",
       "\n",
       "    .dataframe tbody tr th {\n",
       "        vertical-align: top;\n",
       "    }\n",
       "\n",
       "    .dataframe thead th {\n",
       "        text-align: right;\n",
       "    }\n",
       "</style>\n",
       "<table border=\"1\" class=\"dataframe\">\n",
       "  <thead>\n",
       "    <tr style=\"text-align: right;\">\n",
       "      <th></th>\n",
       "      <th>Date</th>\n",
       "      <th>Open</th>\n",
       "      <th>High</th>\n",
       "      <th>Low</th>\n",
       "      <th>Last</th>\n",
       "      <th>Close</th>\n",
       "      <th>Total Trade Quantity</th>\n",
       "      <th>Turnover (Lacs)</th>\n",
       "    </tr>\n",
       "  </thead>\n",
       "  <tbody>\n",
       "    <tr>\n",
       "      <th>0</th>\n",
       "      <td>2018-09-28</td>\n",
       "      <td>234.05</td>\n",
       "      <td>235.95</td>\n",
       "      <td>230.20</td>\n",
       "      <td>233.50</td>\n",
       "      <td>233.75</td>\n",
       "      <td>3069914</td>\n",
       "      <td>7162.35</td>\n",
       "    </tr>\n",
       "    <tr>\n",
       "      <th>1</th>\n",
       "      <td>2018-09-27</td>\n",
       "      <td>234.55</td>\n",
       "      <td>236.80</td>\n",
       "      <td>231.10</td>\n",
       "      <td>233.80</td>\n",
       "      <td>233.25</td>\n",
       "      <td>5082859</td>\n",
       "      <td>11859.95</td>\n",
       "    </tr>\n",
       "    <tr>\n",
       "      <th>2</th>\n",
       "      <td>2018-09-26</td>\n",
       "      <td>240.00</td>\n",
       "      <td>240.00</td>\n",
       "      <td>232.50</td>\n",
       "      <td>235.00</td>\n",
       "      <td>234.25</td>\n",
       "      <td>2240909</td>\n",
       "      <td>5248.60</td>\n",
       "    </tr>\n",
       "    <tr>\n",
       "      <th>3</th>\n",
       "      <td>2018-09-25</td>\n",
       "      <td>233.30</td>\n",
       "      <td>236.75</td>\n",
       "      <td>232.00</td>\n",
       "      <td>236.25</td>\n",
       "      <td>236.10</td>\n",
       "      <td>2349368</td>\n",
       "      <td>5503.90</td>\n",
       "    </tr>\n",
       "    <tr>\n",
       "      <th>4</th>\n",
       "      <td>2018-09-24</td>\n",
       "      <td>233.55</td>\n",
       "      <td>239.20</td>\n",
       "      <td>230.75</td>\n",
       "      <td>234.00</td>\n",
       "      <td>233.30</td>\n",
       "      <td>3423509</td>\n",
       "      <td>7999.55</td>\n",
       "    </tr>\n",
       "  </tbody>\n",
       "</table>\n",
       "</div>"
      ],
      "text/plain": [
       "         Date    Open    High     Low    Last   Close  Total Trade Quantity  \\\n",
       "0  2018-09-28  234.05  235.95  230.20  233.50  233.75               3069914   \n",
       "1  2018-09-27  234.55  236.80  231.10  233.80  233.25               5082859   \n",
       "2  2018-09-26  240.00  240.00  232.50  235.00  234.25               2240909   \n",
       "3  2018-09-25  233.30  236.75  232.00  236.25  236.10               2349368   \n",
       "4  2018-09-24  233.55  239.20  230.75  234.00  233.30               3423509   \n",
       "\n",
       "   Turnover (Lacs)  \n",
       "0          7162.35  \n",
       "1         11859.95  \n",
       "2          5248.60  \n",
       "3          5503.90  \n",
       "4          7999.55  "
      ]
     },
     "execution_count": 60,
     "metadata": {},
     "output_type": "execute_result"
    }
   ],
   "source": [
    "df.head()"
   ]
  },
  {
   "cell_type": "code",
   "execution_count": 61,
   "metadata": {},
   "outputs": [
    {
     "data": {
      "text/html": [
       "<div>\n",
       "<style scoped>\n",
       "    .dataframe tbody tr th:only-of-type {\n",
       "        vertical-align: middle;\n",
       "    }\n",
       "\n",
       "    .dataframe tbody tr th {\n",
       "        vertical-align: top;\n",
       "    }\n",
       "\n",
       "    .dataframe thead th {\n",
       "        text-align: right;\n",
       "    }\n",
       "</style>\n",
       "<table border=\"1\" class=\"dataframe\">\n",
       "  <thead>\n",
       "    <tr style=\"text-align: right;\">\n",
       "      <th></th>\n",
       "      <th>Date</th>\n",
       "      <th>Open</th>\n",
       "      <th>High</th>\n",
       "      <th>Low</th>\n",
       "      <th>Last</th>\n",
       "      <th>Close</th>\n",
       "      <th>Total Trade Quantity</th>\n",
       "      <th>Turnover (Lacs)</th>\n",
       "    </tr>\n",
       "  </thead>\n",
       "  <tbody>\n",
       "    <tr>\n",
       "      <th>2030</th>\n",
       "      <td>2010-07-27</td>\n",
       "      <td>117.6</td>\n",
       "      <td>119.50</td>\n",
       "      <td>112.00</td>\n",
       "      <td>118.80</td>\n",
       "      <td>118.65</td>\n",
       "      <td>586100</td>\n",
       "      <td>694.98</td>\n",
       "    </tr>\n",
       "    <tr>\n",
       "      <th>2031</th>\n",
       "      <td>2010-07-26</td>\n",
       "      <td>120.1</td>\n",
       "      <td>121.00</td>\n",
       "      <td>117.10</td>\n",
       "      <td>117.10</td>\n",
       "      <td>117.60</td>\n",
       "      <td>658440</td>\n",
       "      <td>780.01</td>\n",
       "    </tr>\n",
       "    <tr>\n",
       "      <th>2032</th>\n",
       "      <td>2010-07-23</td>\n",
       "      <td>121.8</td>\n",
       "      <td>121.95</td>\n",
       "      <td>120.25</td>\n",
       "      <td>120.35</td>\n",
       "      <td>120.65</td>\n",
       "      <td>281312</td>\n",
       "      <td>340.31</td>\n",
       "    </tr>\n",
       "    <tr>\n",
       "      <th>2033</th>\n",
       "      <td>2010-07-22</td>\n",
       "      <td>120.3</td>\n",
       "      <td>122.00</td>\n",
       "      <td>120.25</td>\n",
       "      <td>120.75</td>\n",
       "      <td>120.90</td>\n",
       "      <td>293312</td>\n",
       "      <td>355.17</td>\n",
       "    </tr>\n",
       "    <tr>\n",
       "      <th>2034</th>\n",
       "      <td>2010-07-21</td>\n",
       "      <td>122.1</td>\n",
       "      <td>123.00</td>\n",
       "      <td>121.05</td>\n",
       "      <td>121.10</td>\n",
       "      <td>121.55</td>\n",
       "      <td>658666</td>\n",
       "      <td>803.56</td>\n",
       "    </tr>\n",
       "  </tbody>\n",
       "</table>\n",
       "</div>"
      ],
      "text/plain": [
       "            Date   Open    High     Low    Last   Close  Total Trade Quantity  \\\n",
       "2030  2010-07-27  117.6  119.50  112.00  118.80  118.65                586100   \n",
       "2031  2010-07-26  120.1  121.00  117.10  117.10  117.60                658440   \n",
       "2032  2010-07-23  121.8  121.95  120.25  120.35  120.65                281312   \n",
       "2033  2010-07-22  120.3  122.00  120.25  120.75  120.90                293312   \n",
       "2034  2010-07-21  122.1  123.00  121.05  121.10  121.55                658666   \n",
       "\n",
       "      Turnover (Lacs)  \n",
       "2030           694.98  \n",
       "2031           780.01  \n",
       "2032           340.31  \n",
       "2033           355.17  \n",
       "2034           803.56  "
      ]
     },
     "execution_count": 61,
     "metadata": {},
     "output_type": "execute_result"
    }
   ],
   "source": [
    "df.tail()"
   ]
  },
  {
   "cell_type": "code",
   "execution_count": 62,
   "metadata": {},
   "outputs": [
    {
     "name": "stdout",
     "output_type": "stream",
     "text": [
      "<class 'str'>\n"
     ]
    }
   ],
   "source": [
    "df['Date'] = pd.to_datetime(data['Date'])\n",
    "print(type(data.Date[0]))"
   ]
  },
  {
   "cell_type": "code",
   "execution_count": 63,
   "metadata": {},
   "outputs": [
    {
     "data": {
      "text/html": [
       "<div>\n",
       "<style scoped>\n",
       "    .dataframe tbody tr th:only-of-type {\n",
       "        vertical-align: middle;\n",
       "    }\n",
       "\n",
       "    .dataframe tbody tr th {\n",
       "        vertical-align: top;\n",
       "    }\n",
       "\n",
       "    .dataframe thead th {\n",
       "        text-align: right;\n",
       "    }\n",
       "</style>\n",
       "<table border=\"1\" class=\"dataframe\">\n",
       "  <thead>\n",
       "    <tr style=\"text-align: right;\">\n",
       "      <th></th>\n",
       "      <th>Date</th>\n",
       "      <th>Open</th>\n",
       "      <th>High</th>\n",
       "      <th>Low</th>\n",
       "      <th>Last</th>\n",
       "      <th>Close</th>\n",
       "      <th>Total Trade Quantity</th>\n",
       "      <th>Turnover (Lacs)</th>\n",
       "    </tr>\n",
       "  </thead>\n",
       "  <tbody>\n",
       "    <tr>\n",
       "      <th>2034</th>\n",
       "      <td>2010-07-21</td>\n",
       "      <td>122.1</td>\n",
       "      <td>123.00</td>\n",
       "      <td>121.05</td>\n",
       "      <td>121.10</td>\n",
       "      <td>121.55</td>\n",
       "      <td>658666</td>\n",
       "      <td>803.56</td>\n",
       "    </tr>\n",
       "    <tr>\n",
       "      <th>2033</th>\n",
       "      <td>2010-07-22</td>\n",
       "      <td>120.3</td>\n",
       "      <td>122.00</td>\n",
       "      <td>120.25</td>\n",
       "      <td>120.75</td>\n",
       "      <td>120.90</td>\n",
       "      <td>293312</td>\n",
       "      <td>355.17</td>\n",
       "    </tr>\n",
       "    <tr>\n",
       "      <th>2032</th>\n",
       "      <td>2010-07-23</td>\n",
       "      <td>121.8</td>\n",
       "      <td>121.95</td>\n",
       "      <td>120.25</td>\n",
       "      <td>120.35</td>\n",
       "      <td>120.65</td>\n",
       "      <td>281312</td>\n",
       "      <td>340.31</td>\n",
       "    </tr>\n",
       "    <tr>\n",
       "      <th>2031</th>\n",
       "      <td>2010-07-26</td>\n",
       "      <td>120.1</td>\n",
       "      <td>121.00</td>\n",
       "      <td>117.10</td>\n",
       "      <td>117.10</td>\n",
       "      <td>117.60</td>\n",
       "      <td>658440</td>\n",
       "      <td>780.01</td>\n",
       "    </tr>\n",
       "    <tr>\n",
       "      <th>2030</th>\n",
       "      <td>2010-07-27</td>\n",
       "      <td>117.6</td>\n",
       "      <td>119.50</td>\n",
       "      <td>112.00</td>\n",
       "      <td>118.80</td>\n",
       "      <td>118.65</td>\n",
       "      <td>586100</td>\n",
       "      <td>694.98</td>\n",
       "    </tr>\n",
       "  </tbody>\n",
       "</table>\n",
       "</div>"
      ],
      "text/plain": [
       "            Date   Open    High     Low    Last   Close  Total Trade Quantity  \\\n",
       "2034  2010-07-21  122.1  123.00  121.05  121.10  121.55                658666   \n",
       "2033  2010-07-22  120.3  122.00  120.25  120.75  120.90                293312   \n",
       "2032  2010-07-23  121.8  121.95  120.25  120.35  120.65                281312   \n",
       "2031  2010-07-26  120.1  121.00  117.10  117.10  117.60                658440   \n",
       "2030  2010-07-27  117.6  119.50  112.00  118.80  118.65                586100   \n",
       "\n",
       "      Turnover (Lacs)  \n",
       "2034           803.56  \n",
       "2033           355.17  \n",
       "2032           340.31  \n",
       "2031           780.01  \n",
       "2030           694.98  "
      ]
     },
     "execution_count": 63,
     "metadata": {},
     "output_type": "execute_result"
    }
   ],
   "source": [
    "df = data.sort_values(by='Date')\n",
    "df.head()"
   ]
  },
  {
   "cell_type": "code",
   "execution_count": 13,
   "metadata": {},
   "outputs": [],
   "source": [
    "df.reset_index(inplace = True)"
   ]
  },
  {
   "cell_type": "code",
   "execution_count": 14,
   "metadata": {},
   "outputs": [
    {
     "data": {
      "text/html": [
       "<div>\n",
       "<style scoped>\n",
       "    .dataframe tbody tr th:only-of-type {\n",
       "        vertical-align: middle;\n",
       "    }\n",
       "\n",
       "    .dataframe tbody tr th {\n",
       "        vertical-align: top;\n",
       "    }\n",
       "\n",
       "    .dataframe thead th {\n",
       "        text-align: right;\n",
       "    }\n",
       "</style>\n",
       "<table border=\"1\" class=\"dataframe\">\n",
       "  <thead>\n",
       "    <tr style=\"text-align: right;\">\n",
       "      <th></th>\n",
       "      <th>index</th>\n",
       "      <th>Date</th>\n",
       "      <th>Open</th>\n",
       "      <th>High</th>\n",
       "      <th>Low</th>\n",
       "      <th>Last</th>\n",
       "      <th>Close</th>\n",
       "      <th>Total Trade Quantity</th>\n",
       "      <th>Turnover (Lacs)</th>\n",
       "    </tr>\n",
       "  </thead>\n",
       "  <tbody>\n",
       "    <tr>\n",
       "      <th>0</th>\n",
       "      <td>2034</td>\n",
       "      <td>2010-07-21</td>\n",
       "      <td>122.1</td>\n",
       "      <td>123.00</td>\n",
       "      <td>121.05</td>\n",
       "      <td>121.10</td>\n",
       "      <td>121.55</td>\n",
       "      <td>658666</td>\n",
       "      <td>803.56</td>\n",
       "    </tr>\n",
       "    <tr>\n",
       "      <th>1</th>\n",
       "      <td>2033</td>\n",
       "      <td>2010-07-22</td>\n",
       "      <td>120.3</td>\n",
       "      <td>122.00</td>\n",
       "      <td>120.25</td>\n",
       "      <td>120.75</td>\n",
       "      <td>120.90</td>\n",
       "      <td>293312</td>\n",
       "      <td>355.17</td>\n",
       "    </tr>\n",
       "    <tr>\n",
       "      <th>2</th>\n",
       "      <td>2032</td>\n",
       "      <td>2010-07-23</td>\n",
       "      <td>121.8</td>\n",
       "      <td>121.95</td>\n",
       "      <td>120.25</td>\n",
       "      <td>120.35</td>\n",
       "      <td>120.65</td>\n",
       "      <td>281312</td>\n",
       "      <td>340.31</td>\n",
       "    </tr>\n",
       "    <tr>\n",
       "      <th>3</th>\n",
       "      <td>2031</td>\n",
       "      <td>2010-07-26</td>\n",
       "      <td>120.1</td>\n",
       "      <td>121.00</td>\n",
       "      <td>117.10</td>\n",
       "      <td>117.10</td>\n",
       "      <td>117.60</td>\n",
       "      <td>658440</td>\n",
       "      <td>780.01</td>\n",
       "    </tr>\n",
       "    <tr>\n",
       "      <th>4</th>\n",
       "      <td>2030</td>\n",
       "      <td>2010-07-27</td>\n",
       "      <td>117.6</td>\n",
       "      <td>119.50</td>\n",
       "      <td>112.00</td>\n",
       "      <td>118.80</td>\n",
       "      <td>118.65</td>\n",
       "      <td>586100</td>\n",
       "      <td>694.98</td>\n",
       "    </tr>\n",
       "  </tbody>\n",
       "</table>\n",
       "</div>"
      ],
      "text/plain": [
       "   index        Date   Open    High     Low    Last   Close  \\\n",
       "0   2034  2010-07-21  122.1  123.00  121.05  121.10  121.55   \n",
       "1   2033  2010-07-22  120.3  122.00  120.25  120.75  120.90   \n",
       "2   2032  2010-07-23  121.8  121.95  120.25  120.35  120.65   \n",
       "3   2031  2010-07-26  120.1  121.00  117.10  117.10  117.60   \n",
       "4   2030  2010-07-27  117.6  119.50  112.00  118.80  118.65   \n",
       "\n",
       "   Total Trade Quantity  Turnover (Lacs)  \n",
       "0                658666           803.56  \n",
       "1                293312           355.17  \n",
       "2                281312           340.31  \n",
       "3                658440           780.01  \n",
       "4                586100           694.98  "
      ]
     },
     "execution_count": 14,
     "metadata": {},
     "output_type": "execute_result"
    }
   ],
   "source": [
    "df.head()"
   ]
  },
  {
   "cell_type": "code",
   "execution_count": 17,
   "metadata": {},
   "outputs": [
    {
     "data": {
      "text/plain": [
       "[<matplotlib.lines.Line2D at 0x7f90a70af6d0>]"
      ]
     },
     "execution_count": 17,
     "metadata": {},
     "output_type": "execute_result"
    },
    {
     "data": {
      "image/png": "[encoded data removed]",
      "text/plain": [
       "<Figure size 432x288 with 1 Axes>"
      ]
     },
     "metadata": {
      "needs_background": "light"
     },
     "output_type": "display_data"
    }
   ],
   "source": [
    "plt.plot(df['Last'])"
   ]
  },
  {
   "cell_type": "code",
   "execution_count": 18,
   "metadata": {},
   "outputs": [],
   "source": [
    "df1 = df['Last']"
   ]
  },
  {
   "cell_type": "markdown",
   "metadata": {},
   "source": [
    "## Prepare Data"
   ]
  },
  {
   "cell_type": "code",
   "execution_count": 21,
   "metadata": {},
   "outputs": [],
   "source": [
    "#Using MinMaxScaler for normalizing data between 0 & 1\n",
    "normalizer = MinMaxScaler(feature_range=(0,1))\n",
    "ds_scaled = normalizer.fit_transform(np.array(df1).reshape(-1,1))"
   ]
  },
  {
   "cell_type": "code",
   "execution_count": 22,
   "metadata": {},
   "outputs": [
    {
     "data": {
      "text/plain": [
       "(2035, 2035)"
      ]
     },
     "execution_count": 22,
     "metadata": {},
     "output_type": "execute_result"
    }
   ],
   "source": [
    "len(ds_scaled), len(df1)"
   ]
  },
  {
   "cell_type": "code",
   "execution_count": 23,
   "metadata": {},
   "outputs": [],
   "source": [
    "#Defining test and train data sizes\n",
    "train_size = int(len(ds_scaled)*0.70)\n",
    "test_size = len(ds_scaled) - train_size"
   ]
  },
  {
   "cell_type": "code",
   "execution_count": 24,
   "metadata": {},
   "outputs": [
    {
     "data": {
      "text/plain": [
       "(1424, 611)"
      ]
     },
     "execution_count": 24,
     "metadata": {},
     "output_type": "execute_result"
    }
   ],
   "source": [
    "train_size,test_size"
   ]
  },
  {
   "cell_type": "code",
   "execution_count": 25,
   "metadata": {},
   "outputs": [],
   "source": [
    "#Splitting data between train and test\n",
    "ds_train, ds_test = ds_scaled[0:train_size,:], ds_scaled[train_size:len(ds_scaled),:1]"
   ]
  },
  {
   "cell_type": "code",
   "execution_count": 26,
   "metadata": {},
   "outputs": [
    {
     "data": {
      "text/plain": [
       "(1424, 611)"
      ]
     },
     "execution_count": 26,
     "metadata": {},
     "output_type": "execute_result"
    }
   ],
   "source": [
    "len(ds_train),len(ds_test)"
   ]
  },
  {
   "cell_type": "code",
   "execution_count": 27,
   "metadata": {},
   "outputs": [],
   "source": [
    "#creating dataset in time series for LSTM model \n",
    "#X[100,120,140,160,180] : Y[200]\n",
    "def create_ds(dataset,step):\n",
    "    Xtrain, Ytrain = [], []\n",
    "    for i in range(len(dataset)-step-1):\n",
    "        a = dataset[i:(i+step), 0]\n",
    "        Xtrain.append(a)\n",
    "        Ytrain.append(dataset[i + step, 0])\n",
    "    return np.array(Xtrain), np.array(Ytrain)"
   ]
  },
  {
   "cell_type": "code",
   "execution_count": 29,
   "metadata": {},
   "outputs": [],
   "source": [
    "#Taking 100 days price as one record for training\n",
    "time_stamp = 100\n",
    "X_train, y_train = create_ds(ds_train,time_stamp)\n",
    "X_test, y_test = create_ds(ds_test,time_stamp)"
   ]
  },
  {
   "cell_type": "code",
   "execution_count": 30,
   "metadata": {},
   "outputs": [
    {
     "data": {
      "text/plain": [
       "((1323, 100), (1323,))"
      ]
     },
     "execution_count": 30,
     "metadata": {},
     "output_type": "execute_result"
    }
   ],
   "source": [
    "X_train.shape,y_train.shape"
   ]
  },
  {
   "cell_type": "code",
   "execution_count": 31,
   "metadata": {},
   "outputs": [
    {
     "data": {
      "text/plain": [
       "((510, 100), (510,))"
      ]
     },
     "execution_count": 31,
     "metadata": {},
     "output_type": "execute_result"
    }
   ],
   "source": [
    "X_test.shape, y_test.shape"
   ]
  },
  {
   "cell_type": "markdown",
   "metadata": {},
   "source": [
    "Reshaping data to fit into LSTM model"
   ]
  },
  {
   "cell_type": "code",
   "execution_count": 32,
   "metadata": {},
   "outputs": [],
   "source": [
    "X_train = X_train.reshape(X_train.shape[0],X_train.shape[1] , 1)\n",
    "X_test = X_test.reshape(X_test.shape[0],X_test.shape[1] , 1)"
   ]
  },
  {
   "cell_type": "code",
   "execution_count": 33,
   "metadata": {},
   "outputs": [],
   "source": [
    "from keras.models import Sequential\n",
    "from keras.layers import Dense, LSTM"
   ]
  },
  {
   "cell_type": "code",
   "execution_count": 34,
   "metadata": {},
   "outputs": [
    {
     "name": "stdout",
     "output_type": "stream",
     "text": [
      "Model: \"sequential\"\n",
      "_________________________________________________________________\n",
      " Layer (type)                Output Shape              Param #   \n",
      "=================================================================\n",
      " lstm (LSTM)                 (None, 100, 50)           10400     \n",
      "                                                                 \n",
      " lstm_1 (LSTM)               (None, 100, 50)           20200     \n",
      "                                                                 \n",
      " lstm_2 (LSTM)               (None, 50)                20200     \n",
      "                                                                 \n",
      " dense (Dense)               (None, 1)                 51        \n",
      "                                                                 \n",
      "=================================================================\n",
      "Total params: 50,851\n",
      "Trainable params: 50,851\n",
      "Non-trainable params: 0\n",
      "_________________________________________________________________\n"
     ]
    }
   ],
   "source": [
    "#Creating LSTM model using keras\n",
    "model = Sequential()\n",
    "model.add(LSTM(units=50,return_sequences=True,input_shape=(X_train.shape[1],1)))\n",
    "model.add(LSTM(units=50,return_sequences=True))\n",
    "model.add(LSTM(units=50))\n",
    "model.add(Dense(units=1,activation='linear'))\n",
    "model.summary()"
   ]
  },
  {
   "cell_type": "code",
   "execution_count": 35,
   "metadata": {},
   "outputs": [
    {
     "name": "stdout",
     "output_type": "stream",
     "text": [
      "Epoch 1/100\n",
      "21/21 [==============================] - 20s 805ms/step - loss: 0.0098 - val_loss: 0.0148\n",
      "Epoch 2/100\n",
      "21/21 [==============================] - 16s 748ms/step - loss: 0.0017 - val_loss: 0.0038\n",
      "Epoch 3/100\n",
      "21/21 [==============================] - 15s 743ms/step - loss: 9.3133e-04 - val_loss: 0.0031\n",
      "Epoch 4/100\n",
      "21/21 [==============================] - 16s 751ms/step - loss: 8.5114e-04 - val_loss: 0.0045\n",
      "Epoch 5/100\n",
      "21/21 [==============================] - 15s 731ms/step - loss: 8.3982e-04 - val_loss: 0.0036\n",
      "Epoch 6/100\n",
      "21/21 [==============================] - 15s 740ms/step - loss: 7.9695e-04 - val_loss: 0.0035\n",
      "Epoch 7/100\n",
      "21/21 [==============================] - 15s 739ms/step - loss: 7.7230e-04 - val_loss: 0.0027\n",
      "Epoch 8/100\n",
      "21/21 [==============================] - 15s 736ms/step - loss: 7.5974e-04 - val_loss: 0.0024\n",
      "Epoch 9/100\n",
      "21/21 [==============================] - 16s 748ms/step - loss: 7.1557e-04 - val_loss: 0.0032\n",
      "Epoch 10/100\n",
      "21/21 [==============================] - 16s 757ms/step - loss: 6.8212e-04 - val_loss: 0.0029\n",
      "Epoch 11/100\n",
      "21/21 [==============================] - 15s 718ms/step - loss: 6.8188e-04 - val_loss: 0.0027\n",
      "Epoch 12/100\n",
      "21/21 [==============================] - 16s 747ms/step - loss: 6.2000e-04 - val_loss: 0.0029\n",
      "Epoch 13/100\n",
      "21/21 [==============================] - 15s 739ms/step - loss: 6.1257e-04 - val_loss: 0.0042\n",
      "Epoch 14/100\n",
      "21/21 [==============================] - 16s 741ms/step - loss: 5.8512e-04 - val_loss: 0.0044\n",
      "Epoch 15/100\n",
      "21/21 [==============================] - 16s 744ms/step - loss: 5.6957e-04 - val_loss: 0.0063\n",
      "Epoch 16/100\n",
      "21/21 [==============================] - 15s 736ms/step - loss: 5.5188e-04 - val_loss: 0.0041\n",
      "Epoch 17/100\n",
      "21/21 [==============================] - 15s 733ms/step - loss: 5.2794e-04 - val_loss: 0.0055\n",
      "Epoch 18/100\n",
      "21/21 [==============================] - 16s 739ms/step - loss: 5.1470e-04 - val_loss: 0.0060\n",
      "Epoch 19/100\n",
      "21/21 [==============================] - 16s 759ms/step - loss: 5.0688e-04 - val_loss: 0.0043\n",
      "Epoch 20/100\n",
      "21/21 [==============================] - 16s 746ms/step - loss: 5.0344e-04 - val_loss: 0.0049\n",
      "Epoch 21/100\n",
      "21/21 [==============================] - 16s 762ms/step - loss: 5.1573e-04 - val_loss: 0.0037\n",
      "Epoch 22/100\n",
      "21/21 [==============================] - 15s 732ms/step - loss: 5.2078e-04 - val_loss: 0.0055\n",
      "Epoch 23/100\n",
      "21/21 [==============================] - 16s 741ms/step - loss: 4.9199e-04 - val_loss: 0.0073\n",
      "Epoch 24/100\n",
      "21/21 [==============================] - 16s 760ms/step - loss: 4.6882e-04 - val_loss: 0.0043\n",
      "Epoch 25/100\n",
      "21/21 [==============================] - 16s 758ms/step - loss: 4.3244e-04 - val_loss: 0.0058\n",
      "Epoch 26/100\n",
      "21/21 [==============================] - 15s 712ms/step - loss: 4.1966e-04 - val_loss: 0.0054\n",
      "Epoch 27/100\n",
      "21/21 [==============================] - 16s 750ms/step - loss: 3.9888e-04 - val_loss: 0.0052\n",
      "Epoch 28/100\n",
      "21/21 [==============================] - 16s 748ms/step - loss: 3.9766e-04 - val_loss: 0.0033\n",
      "Epoch 29/100\n",
      "21/21 [==============================] - 15s 738ms/step - loss: 4.0487e-04 - val_loss: 0.0039\n",
      "Epoch 30/100\n",
      "21/21 [==============================] - 16s 776ms/step - loss: 4.1860e-04 - val_loss: 0.0029\n",
      "Epoch 31/100\n",
      "21/21 [==============================] - 16s 755ms/step - loss: 3.6109e-04 - val_loss: 0.0021\n",
      "Epoch 32/100\n",
      "21/21 [==============================] - 15s 724ms/step - loss: 3.4768e-04 - val_loss: 0.0019\n",
      "Epoch 33/100\n",
      "21/21 [==============================] - 16s 751ms/step - loss: 3.3563e-04 - val_loss: 0.0025\n",
      "Epoch 34/100\n",
      "21/21 [==============================] - 15s 728ms/step - loss: 3.1717e-04 - val_loss: 0.0026\n",
      "Epoch 35/100\n",
      "21/21 [==============================] - 15s 738ms/step - loss: 3.2158e-04 - val_loss: 0.0012\n",
      "Epoch 36/100\n",
      "21/21 [==============================] - 16s 749ms/step - loss: 3.0692e-04 - val_loss: 0.0015\n",
      "Epoch 37/100\n",
      "21/21 [==============================] - 16s 743ms/step - loss: 2.9503e-04 - val_loss: 9.2759e-04\n",
      "Epoch 38/100\n",
      "21/21 [==============================] - 16s 749ms/step - loss: 2.8001e-04 - val_loss: 0.0013\n",
      "Epoch 39/100\n",
      "21/21 [==============================] - 16s 758ms/step - loss: 2.9165e-04 - val_loss: 0.0012\n",
      "Epoch 40/100\n",
      "21/21 [==============================] - 16s 757ms/step - loss: 2.8827e-04 - val_loss: 0.0014\n",
      "Epoch 41/100\n",
      "21/21 [==============================] - 16s 749ms/step - loss: 2.6196e-04 - val_loss: 0.0021\n",
      "Epoch 42/100\n",
      "21/21 [==============================] - 15s 733ms/step - loss: 2.8000e-04 - val_loss: 8.3346e-04\n",
      "Epoch 43/100\n",
      "21/21 [==============================] - 16s 749ms/step - loss: 2.5298e-04 - val_loss: 0.0012\n",
      "Epoch 44/100\n",
      "21/21 [==============================] - 15s 737ms/step - loss: 2.3662e-04 - val_loss: 9.8585e-04\n",
      "Epoch 45/100\n",
      "21/21 [==============================] - 15s 733ms/step - loss: 2.4214e-04 - val_loss: 0.0024\n",
      "Epoch 46/100\n",
      "21/21 [==============================] - 15s 741ms/step - loss: 2.3861e-04 - val_loss: 7.5308e-04\n",
      "Epoch 47/100\n",
      "21/21 [==============================] - 16s 752ms/step - loss: 2.2950e-04 - val_loss: 0.0013\n",
      "Epoch 48/100\n",
      "21/21 [==============================] - 16s 747ms/step - loss: 2.2217e-04 - val_loss: 5.9308e-04\n",
      "Epoch 49/100\n",
      "21/21 [==============================] - 16s 754ms/step - loss: 2.0457e-04 - val_loss: 0.0011\n",
      "Epoch 50/100\n",
      "21/21 [==============================] - 16s 748ms/step - loss: 2.1962e-04 - val_loss: 0.0011\n",
      "Epoch 51/100\n",
      "21/21 [==============================] - 15s 702ms/step - loss: 2.1441e-04 - val_loss: 0.0016\n",
      "Epoch 52/100\n",
      "21/21 [==============================] - 15s 736ms/step - loss: 2.2190e-04 - val_loss: 7.1902e-04\n",
      "Epoch 53/100\n",
      "21/21 [==============================] - 15s 741ms/step - loss: 1.9208e-04 - val_loss: 0.0014\n",
      "Epoch 54/100\n",
      "21/21 [==============================] - 15s 738ms/step - loss: 1.9060e-04 - val_loss: 4.8291e-04\n",
      "Epoch 55/100\n",
      "21/21 [==============================] - 16s 745ms/step - loss: 2.0361e-04 - val_loss: 5.4807e-04\n",
      "Epoch 56/100\n",
      "21/21 [==============================] - 16s 743ms/step - loss: 1.8611e-04 - val_loss: 0.0014\n",
      "Epoch 57/100\n",
      "21/21 [==============================] - 16s 762ms/step - loss: 1.8894e-04 - val_loss: 0.0011\n",
      "Epoch 58/100\n",
      "21/21 [==============================] - 15s 726ms/step - loss: 1.7132e-04 - val_loss: 0.0010\n",
      "Epoch 59/100\n",
      "21/21 [==============================] - 16s 748ms/step - loss: 1.7678e-04 - val_loss: 0.0012\n",
      "Epoch 60/100\n",
      "21/21 [==============================] - 16s 753ms/step - loss: 1.6995e-04 - val_loss: 5.3556e-04\n",
      "Epoch 61/100\n",
      "21/21 [==============================] - 16s 751ms/step - loss: 1.6199e-04 - val_loss: 8.1394e-04\n",
      "Epoch 62/100\n",
      "21/21 [==============================] - 15s 726ms/step - loss: 1.5516e-04 - val_loss: 8.5165e-04\n",
      "Epoch 63/100\n",
      "21/21 [==============================] - 15s 739ms/step - loss: 1.6424e-04 - val_loss: 5.6780e-04\n",
      "Epoch 64/100\n",
      "21/21 [==============================] - 15s 741ms/step - loss: 1.6458e-04 - val_loss: 8.8284e-04\n",
      "Epoch 65/100\n",
      "21/21 [==============================] - 15s 740ms/step - loss: 1.7321e-04 - val_loss: 4.5371e-04\n",
      "Epoch 66/100\n",
      "21/21 [==============================] - 15s 731ms/step - loss: 1.8193e-04 - val_loss: 9.4685e-04\n",
      "Epoch 67/100\n",
      "21/21 [==============================] - 15s 738ms/step - loss: 1.9895e-04 - val_loss: 0.0024\n",
      "Epoch 68/100\n",
      "21/21 [==============================] - 15s 741ms/step - loss: 1.8811e-04 - val_loss: 4.6419e-04\n",
      "Epoch 69/100\n",
      "21/21 [==============================] - 15s 732ms/step - loss: 1.5609e-04 - val_loss: 7.1277e-04\n",
      "Epoch 70/100\n",
      "21/21 [==============================] - 16s 742ms/step - loss: 1.5786e-04 - val_loss: 0.0013\n",
      "Epoch 71/100\n",
      "21/21 [==============================] - 16s 750ms/step - loss: 1.4727e-04 - val_loss: 6.8286e-04\n",
      "Epoch 72/100\n",
      "21/21 [==============================] - 15s 739ms/step - loss: 1.4932e-04 - val_loss: 0.0010\n",
      "Epoch 73/100\n",
      "21/21 [==============================] - 16s 755ms/step - loss: 1.8138e-04 - val_loss: 6.3298e-04\n",
      "Epoch 74/100\n",
      "21/21 [==============================] - 15s 740ms/step - loss: 1.5143e-04 - val_loss: 9.2081e-04\n",
      "Epoch 75/100\n",
      "21/21 [==============================] - 15s 730ms/step - loss: 1.5125e-04 - val_loss: 7.8729e-04\n",
      "Epoch 76/100\n",
      "21/21 [==============================] - 15s 728ms/step - loss: 1.4433e-04 - val_loss: 5.3104e-04\n",
      "Epoch 77/100\n",
      "21/21 [==============================] - 15s 740ms/step - loss: 1.4637e-04 - val_loss: 0.0011\n",
      "Epoch 78/100\n",
      "21/21 [==============================] - 15s 734ms/step - loss: 1.4047e-04 - val_loss: 5.5067e-04\n",
      "Epoch 79/100\n",
      "21/21 [==============================] - 15s 740ms/step - loss: 1.4904e-04 - val_loss: 7.5244e-04\n",
      "Epoch 80/100\n",
      "21/21 [==============================] - 15s 727ms/step - loss: 1.5213e-04 - val_loss: 8.2508e-04\n",
      "Epoch 81/100\n",
      "21/21 [==============================] - 15s 727ms/step - loss: 1.3776e-04 - val_loss: 8.7909e-04\n",
      "Epoch 82/100\n",
      "21/21 [==============================] - 15s 743ms/step - loss: 1.4962e-04 - val_loss: 4.4049e-04\n",
      "Epoch 83/100\n",
      "21/21 [==============================] - 16s 745ms/step - loss: 1.4403e-04 - val_loss: 6.8339e-04\n",
      "Epoch 84/100\n",
      "21/21 [==============================] - 16s 746ms/step - loss: 1.5320e-04 - val_loss: 6.4388e-04\n",
      "Epoch 85/100\n",
      "21/21 [==============================] - 15s 740ms/step - loss: 1.4204e-04 - val_loss: 9.8414e-04\n",
      "Epoch 86/100\n",
      "21/21 [==============================] - 15s 725ms/step - loss: 1.4111e-04 - val_loss: 8.4645e-04\n",
      "Epoch 87/100\n",
      "21/21 [==============================] - 15s 739ms/step - loss: 1.4328e-04 - val_loss: 0.0012\n",
      "Epoch 88/100\n",
      "21/21 [==============================] - 15s 734ms/step - loss: 2.0486e-04 - val_loss: 5.1510e-04\n",
      "Epoch 89/100\n",
      "21/21 [==============================] - 16s 756ms/step - loss: 1.7851e-04 - val_loss: 0.0012\n",
      "Epoch 90/100\n",
      "21/21 [==============================] - 15s 728ms/step - loss: 1.3997e-04 - val_loss: 0.0013\n",
      "Epoch 91/100\n",
      "21/21 [==============================] - 15s 735ms/step - loss: 1.5953e-04 - val_loss: 9.7485e-04\n",
      "Epoch 92/100\n",
      "21/21 [==============================] - 15s 734ms/step - loss: 1.4927e-04 - val_loss: 0.0018\n",
      "Epoch 93/100\n",
      "21/21 [==============================] - 16s 755ms/step - loss: 1.3808e-04 - val_loss: 0.0012\n",
      "Epoch 94/100\n",
      "21/21 [==============================] - 15s 737ms/step - loss: 1.4068e-04 - val_loss: 5.9588e-04\n",
      "Epoch 95/100\n",
      "21/21 [==============================] - 16s 742ms/step - loss: 1.4352e-04 - val_loss: 0.0011\n",
      "Epoch 96/100\n",
      "21/21 [==============================] - 16s 744ms/step - loss: 1.4626e-04 - val_loss: 0.0013\n",
      "Epoch 97/100\n",
      "21/21 [==============================] - 15s 738ms/step - loss: 1.3360e-04 - val_loss: 0.0013\n",
      "Epoch 98/100\n",
      "21/21 [==============================] - 15s 738ms/step - loss: 1.5411e-04 - val_loss: 7.5152e-04\n",
      "Epoch 99/100\n",
      "21/21 [==============================] - 15s 727ms/step - loss: 1.7616e-04 - val_loss: 0.0012\n",
      "Epoch 100/100\n",
      "21/21 [==============================] - 15s 730ms/step - loss: 1.4462e-04 - val_loss: 5.5630e-04\n"
     ]
    },
    {
     "data": {
      "text/plain": [
       "<keras.callbacks.History at 0x7f90804cbb80>"
      ]
     },
     "execution_count": 35,
     "metadata": {},
     "output_type": "execute_result"
    }
   ],
   "source": [
    "#Training model with adam optimizer and mean squared error loss function\n",
    "model.compile(loss='mean_squared_error',optimizer='adam')\n",
    "model.fit(X_train,y_train,validation_data=(X_test,y_test),epochs=100,batch_size=64)"
   ]
  },
  {
   "cell_type": "code",
   "execution_count": 36,
   "metadata": {},
   "outputs": [
    {
     "data": {
      "text/plain": [
       "[<matplotlib.lines.Line2D at 0x7f9070330280>]"
      ]
     },
     "execution_count": 36,
     "metadata": {},
     "output_type": "execute_result"
    },
    {
     "data": {
      "image/png": "[encoded data removed]",
      "text/plain": [
       "<Figure size 432x288 with 1 Axes>"
      ]
     },
     "metadata": {
      "needs_background": "light"
     },
     "output_type": "display_data"
    }
   ],
   "source": [
    "#PLotting loss, it shows that loss has decreased significantly and model trained well\n",
    "loss = model.history.history['loss']\n",
    "plt.plot(loss)"
   ]
  },
  {
   "cell_type": "code",
   "execution_count": 37,
   "metadata": {},
   "outputs": [],
   "source": [
    "#Predicitng on train and test data\n",
    "train_predict = model.predict(X_train)\n",
    "test_predict = model.predict(X_test)"
   ]
  },
  {
   "cell_type": "code",
   "execution_count": 38,
   "metadata": {},
   "outputs": [],
   "source": [
    "train_predict = normalizer.inverse_transform(train_predict)\n",
    "test_predict = normalizer.inverse_transform(test_predict)"
   ]
  },
  {
   "cell_type": "code",
   "execution_count": 39,
   "metadata": {},
   "outputs": [
    {
     "data": {
      "text/plain": [
       "[<matplotlib.lines.Line2D at 0x7f9070064a00>]"
      ]
     },
     "execution_count": 39,
     "metadata": {},
     "output_type": "execute_result"
    },
    {
     "data": {
      "image/png": "[encoded data removed]",
      "text/plain": [
       "<Figure size 432x288 with 1 Axes>"
      ]
     },
     "metadata": {
      "needs_background": "light"
     },
     "output_type": "display_data"
    }
   ],
   "source": [
    "plt.plot(normalizer.inverse_transform(ds_scaled))\n",
    "plt.plot(train_predict)\n",
    "plt.plot(test_predict)"
   ]
  },
  {
   "cell_type": "code",
   "execution_count": 40,
   "metadata": {},
   "outputs": [
    {
     "data": {
      "text/plain": [
       "numpy.ndarray"
      ]
     },
     "execution_count": 40,
     "metadata": {},
     "output_type": "execute_result"
    }
   ],
   "source": [
    "type(train_predict)"
   ]
  },
  {
   "cell_type": "code",
   "execution_count": 41,
   "metadata": {},
   "outputs": [],
   "source": [
    "test = np.vstack((train_predict,test_predict))"
   ]
  },
  {
   "cell_type": "code",
   "execution_count": 42,
   "metadata": {},
   "outputs": [
    {
     "data": {
      "text/plain": [
       "[<matplotlib.lines.Line2D at 0x7f904877b4c0>]"
      ]
     },
     "execution_count": 42,
     "metadata": {},
     "output_type": "execute_result"
    },
    {
     "data": {
      "image/png": "[encoded data removed]",
      "text/plain": [
       "<Figure size 432x288 with 1 Axes>"
      ]
     },
     "metadata": {
      "needs_background": "light"
     },
     "output_type": "display_data"
    }
   ],
   "source": [
    "#Combining the predited data to create uniform data visualization\n",
    "plt.plot(normalizer.inverse_transform(ds_scaled))\n",
    "plt.plot(test)"
   ]
  }
 ],
 "metadata": {
  "kernelspec": {
   "display_name": "Python 3",
   "language": "python",
   "name": "python3"
  },
  "language_info": {
   "codemirror_mode": {
    "name": "ipython",
    "version": 3
   },
   "file_extension": ".py",
   "mimetype": "text/x-python",
   "name": "python",
   "nbconvert_exporter": "python",
   "pygments_lexer": "ipython3",
   "version": "3.8.8"
  }
 },
 "nbformat": 4,
 "nbformat_minor": 1
}
